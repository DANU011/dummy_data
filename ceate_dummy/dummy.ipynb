{
 "cells": [
  {
   "cell_type": "code",
   "execution_count": 1,
   "metadata": {
    "collapsed": true,
    "ExecuteTime": {
     "end_time": "2023-05-17T05:12:12.773173100Z",
     "start_time": "2023-05-17T05:12:12.632579900Z"
    }
   },
   "outputs": [
    {
     "name": "stdout",
     "output_type": "stream",
     "text": [
      "최서영\n"
     ]
    }
   ],
   "source": [
    "from faker import Faker\n",
    "fake = Faker('ko_KR') # locale 정보 설정\n",
    "Faker.seed() # 초기 seed 설정\n",
    "\n",
    "name = fake.name()\n",
    "print(name)"
   ]
  },
  {
   "cell_type": "code",
   "execution_count": 2,
   "outputs": [
    {
     "name": "stdout",
     "output_type": "stream",
     "text": [
      "isubin@daum.net\n"
     ]
    }
   ],
   "source": [
    "from faker import Faker\n",
    "fake = Faker('ko_KR') # locale 정보 설정\n",
    "Faker.seed() # 초기 seed 설정\n",
    "\n",
    "name = fake.free_email()\n",
    "print(name)"
   ],
   "metadata": {
    "collapsed": false,
    "ExecuteTime": {
     "end_time": "2023-05-17T05:14:20.053123100Z",
     "start_time": "2023-05-17T05:14:19.990609200Z"
    }
   }
  },
  {
   "cell_type": "code",
   "execution_count": 3,
   "outputs": [
    {
     "name": "stdout",
     "output_type": "stream",
     "text": [
      "['junseo98@dreamwiz.com', 'hanhaeun@nate.com', 'gimjeongsug@nate.com', 'sunogbag@nate.com', 'pyang@nate.com', 'minseo55@daum.net', 'noyeeun@gmail.com', 'gi@live.com', 'qgim@naver.com', 'jeongnam40@naver.com', 'seohyeon39@gmail.com', 'gangjuweon@hanmail.net', 'anogsun@daum.net', 'yeongmi92@hanmail.net', 'yeongsu85@hotmail.com', 'eunseo44@dreamwiz.com', 'gimminjae@live.com', 'nson@live.com', 'yeongmigim@naver.com', 'minsu54@dreamwiz.com', 'ijeongsun@hotmail.com', 'bagboram@hanmail.net', 'eunyeong79@daum.net', 'gyeongjagim@dreamwiz.com', 'coemyeongsug@nate.com', 'junho32@live.com', 'junseoyun@nate.com', 'jeongsig24@hanmail.net', 'yeongceol18@daum.net', 'myeongsugsong@live.com', 'jeongsig97@hanmail.net', 'yeongmii@hotmail.com', 'ogjanam@live.com', 'eunju13@nate.com', 'iyeongja@hanmail.net', 'yujin57@live.com', 'jihu75@hanmail.net', 'yunjeongsun@naver.com', 'vyang@dreamwiz.com', 'minjae88@hanmail.net', 'sunja65@live.com', 'gimseoyun@hotmail.com', 'bagjinu@hanmail.net', 'go@nate.com', 'gimjiu@hotmail.com', 'gimhayun@nate.com', 'sujin80@hanmail.net', 'seonghogo@hotmail.com', 'yeonghyi44@naver.com', 'yeongho41@naver.com', 'jiu41@hotmail.com', 'bageunjeong@gmail.com', 'seonghun84@hanmail.net', 'gimminjae@gmail.com', 'areum02@hotmail.com', 'songyeongil@nate.com', 'eunji56@hanmail.net', 'yeongja47@dreamwiz.com', 'gimsumin@live.com', 'gimhyejin@naver.com', 'li@daum.net', 'vcoe@hanmail.net', 'yeonghwani@naver.com', 'ijuweon@daum.net', 'lgim@gmail.com', 'yeongmi14@gmail.com', 'ujinsin@hotmail.com', 'minji50@nate.com', 'isanghyeon@hanmail.net', 'yi@live.com', 'tjang@dreamwiz.com', 'jihyeoncoe@nate.com', 'eunjibag@naver.com', 'nasanghyeon@hotmail.com', 'pan@live.com', 'seongjinnam@daum.net', 'qgu@hotmail.com', 'jiyeongi@hanmail.net', 'seongminyang@hanmail.net', 'sumin66@hotmail.com', 'yeonghyi05@daum.net', 'junseo09@nate.com', 'munseoyeong@live.com', 'munyeongja@gmail.com', 'yeongjin81@live.com', 'jongsui@hotmail.com', 'ijungsu@dreamwiz.com', 'gimbyeongceol@live.com', 'yeongmi40@daum.net', 'bagjunhyeog@dreamwiz.com', 'jungsu18@live.com', 'jangeunji@gmail.com', 'mgim@hanmail.net', 'seoseongho@hotmail.com', 'lhwang@gmail.com', 'geonui@hotmail.com', 'eunseoi@live.com', 'seonghunhwang@dreamwiz.com', 'yejunbag@live.com', 'gimjieun@dreamwiz.com', 'yeeunbag@daum.net', 'qhwang@live.com', 'yeonggilhan@nate.com', 'migyeongbag@hotmail.com', 'gimyeonghyi@live.com', 'gwangsugim@naver.com', 'yeonghyi30@naver.com', 'seonghyeonjo@dreamwiz.com', 'xbag@nate.com', 'igu@hotmail.com', 'dcoe@gmail.com', 'minseo25@naver.com', 'jihui@daum.net', 'seongho90@nate.com', 'sanghunhwang@hotmail.com', 'ganghyeonju@live.com', 'yeji98@dreamwiz.com', 'yeongmibae@hanmail.net', 'coejiyeon@dreamwiz.com', 'yeweon41@daum.net', 'eunyeong43@dreamwiz.com', 'gimsunja@hotmail.com', 'tgim@live.com', 'jangyeonggil@gmail.com', 'seonghungim@gmail.com', 'vyang@nate.com', 'eungyeong30@naver.com', 'yunyejun@live.com', 'coeeunju@daum.net', 'hanseongho@daum.net', 'jusujin@dreamwiz.com', 'rgim@dreamwiz.com', 'gimyejin@hotmail.com', 'yejini@nate.com', 'jhong@gmail.com', 'seojuncoe@live.com', 'yeweon08@nate.com', 'gimyeeun@nate.com', 'nsong@hotmail.com', 'oim@live.com', 'jiminbag@hotmail.com', 'zi@gmail.com', 'tcoe@dreamwiz.com', 'areum48@daum.net', 'kyun@live.com', 'ki@live.com', 'coesunog@gmail.com', 'ijongsu@naver.com', 'gimyeonggil@gmail.com', 'ti@hotmail.com', 'hyeonji25@daum.net', 'guyejun@daum.net', 'jiweon37@hotmail.com', 'jongsu77@live.com', 'yeongho87@hanmail.net', 'mhwang@naver.com', 'donghyeongim@hanmail.net', 'yeongilno@hotmail.com', 'jeongjunseo@hotmail.com', 'gimyeongjin@live.com', 'coeogsun@gmail.com', 'gimsujin@dreamwiz.com', 'iseongho@nate.com', 'yeongsig94@hanmail.net', 'jeongsuni@daum.net', 'mi@daum.net', 'sujingim@hanmail.net', 'dgo@hanmail.net', 'eyun@nate.com', 'ci@daum.net', 'jihui@nate.com', 'yujin32@nate.com', 'yunseogim@dreamwiz.com', 'yunjeongho@naver.com', 'yeongja17@hanmail.net', 'jeongho66@hotmail.com', 'hyeonjun18@hanmail.net', 'ugim@daum.net', 'bi@naver.com', 'namhayun@hanmail.net', 'mo@daum.net', 'seonyeongbaeg@live.com', 'jaehoi@nate.com', 'icaeweon@hanmail.net', 'bgim@gmail.com', 'fbag@live.com', 'yeji59@hotmail.com', 'jcoe@daum.net', 'sangho71@hanmail.net', 'bi@hotmail.com', 'areumjeon@hotmail.com', 'eungyeong22@hanmail.net', 'bagjeongsug@hotmail.com', 'kbag@daum.net', 'uujin@dreamwiz.com', 'minsubag@naver.com', 'coemijeong@daum.net', 'migyeonggwag@hanmail.net', 'fgim@hanmail.net', 'yeonghwangim@nate.com', 'hyeonsug09@daum.net', 'joareum@hanmail.net', 'yeweon26@hotmail.com', 'gimjihye@dreamwiz.com', 'jeongung38@hanmail.net', 'gimjinho@nate.com', 'gangjungsu@daum.net', 'yeongja59@live.com', 'hyeonsug56@hanmail.net', 'baghyeonju@gmail.com', 'yyun@hotmail.com', 'junhyeog12@live.com', 'seonyeonggim@daum.net', 'bagjeongnam@dreamwiz.com', 'jiu81@hanmail.net', 'yunyeongho@live.com', 'jungsubag@naver.com', 'ryuseonyeong@gmail.com', 'gweonjaeho@nate.com', 'bagseonyeong@gmail.com', 'seoyeon15@daum.net', 'jeongjai@hotmail.com', 'junhyeog30@nate.com', 'yanghyeonjun@nate.com', 'minseogweon@dreamwiz.com', 'seonghun92@hotmail.com', 'gwangsuseong@dreamwiz.com', 'hyeonjeongbag@live.com', 'yeongjin42@naver.com', 'seojun42@live.com', 'jeongsu48@dreamwiz.com', 'yeongja78@nate.com', 'hayunjang@naver.com', 'dgim@live.com', 'junyeong20@hotmail.com', 'jeongsig24@gmail.com', 'pi@hotmail.com', 'geonu99@live.com', 'gimcunja@hanmail.net', 'yeongja60@nate.com', 'gimdohyeon@hotmail.com', 'myeongja48@naver.com', 'miyeongan@gmail.com', 'jeongho23@dreamwiz.com', 'sangceolgim@hanmail.net', 'caeweongim@hanmail.net', 'seunghyeonbag@naver.com', 'ogo@live.com', 'seonghuni@live.com', 'yeongjin79@dreamwiz.com', 'bagmyeongja@daum.net', 'ycoe@hanmail.net', 'djo@hanmail.net', 'baghyeonu@nate.com', 'jieun11@naver.com', 'sunog75@hanmail.net', 'eungyeong58@hotmail.com', 'vgim@nate.com', 'uo@daum.net', 'gimgyeonghyi@gmail.com', 'eunjeong11@gmail.com', 'gimjaeho@nate.com', 'gimminsu@hanmail.net', 'vgim@naver.com', 'sangho88@dreamwiz.com', 'yeongsugsong@live.com', 'jeonghyi71@hotmail.com', 'ci@gmail.com', 'gyu@nate.com', 'xcoe@daum.net', 'boramgim@live.com', 'haeun35@nate.com', 'byeongceol39@hotmail.com', 'jeongsig99@dreamwiz.com', 'minsu63@naver.com', 'sanghunyu@hanmail.net', 'gimmisug@daum.net', 'iseongsu@gmail.com', 'yeongsuggweon@gmail.com', 'sgim@gmail.com', 'igim@dreamwiz.com', 'gweonjimin@hotmail.com', 'seoyungim@nate.com', 'coeseongho@dreamwiz.com', 'eseong@gmail.com', 'yunmijeong@nate.com', 'fi@naver.com', 'coeareum@live.com', 'jeongnamyun@gmail.com', 'eunjiyun@hanmail.net', 'minseog04@hotmail.com', 'seongminca@hanmail.net', 'jihyeon24@daum.net', 'gimgyeongja@hotmail.com', 'gyeongsu57@hotmail.com', 'cbag@gmail.com', 'gimsumin@hanmail.net', 'hanminseog@gmail.com', 'scoe@gmail.com', 'ygang@dreamwiz.com', 'jangeunju@hotmail.com', 'fi@live.com', 'minjae64@hotmail.com', 'minjiyun@daum.net', 'doyuncoe@dreamwiz.com', 'jhan@naver.com', 'hyeonsugyang@live.com', 'tgim@nate.com', 'seojia@daum.net', 'seongsu40@hanmail.net', 'iseongmin@naver.com', 'gimjeongsug@live.com', 'myeongsug00@daum.net', 'seungmini@nate.com', 'jihyeonju@nate.com', 'ijiyeon@live.com', 'yeonghyi34@live.com', 'hyeonjibag@gmail.com', 'ycoe@naver.com', 'bjeong@hotmail.com', 'jeonghyi05@live.com', 'seonghyeonyun@nate.com', 'seoyeonhong@gmail.com', 'jimingim@daum.net', 'jeongho17@daum.net', 'ogim@hanmail.net', 'gbae@nate.com', 'hi@naver.com', 'ijunseo@live.com', 'qi@gmail.com', 'yeonggilcoe@naver.com', 'jeongsug44@naver.com', 'jeongnam29@gmail.com', 'mijeong25@live.com', 'geonu37@hotmail.com', 'seongsugim@nate.com', 'yunseogim@naver.com', 'so@naver.com', 'bagseunghyeon@hotmail.com', 'bagseongsu@live.com', 'di@gmail.com', 'seunghyeoni@naver.com', 'ujingim@daum.net', 'seonghuni@hotmail.com', 'imiyeong@hanmail.net', 'yeongmigim@gmail.com', 'junyeong23@gmail.com', 'jongsui@dreamwiz.com', 'miyeong89@gmail.com', 'rcoe@naver.com', 'sanghyeon62@daum.net', 'yeongilgim@dreamwiz.com', 'yujinjo@hanmail.net', 'xbag@hanmail.net', 'yejigweon@hotmail.com', 'haeunu@dreamwiz.com', 'jimin09@nate.com', 'wbaeg@gmail.com', 'ti@dreamwiz.com', 'gangjunyeong@gmail.com', 'seohaeun@dreamwiz.com', 'junseosong@gmail.com', 'yunjeongja@dreamwiz.com', 'noeunyeong@nate.com', 'yejisong@naver.com', 'ryugyeongja@daum.net', 'gyeongsucoe@hotmail.com', 'coeseoyeong@hotmail.com', 'jihun94@live.com', 'pi@dreamwiz.com', 'jeonghyi42@naver.com', 'hyeonsugsong@hanmail.net', 'jgim@nate.com', 'coecaeweon@hanmail.net', 'jeongsug76@hanmail.net', 'sgim@nate.com', 'coeseongsu@nate.com', 'wi@hanmail.net', 'ujin33@gmail.com', 'gimseongho@dreamwiz.com', 'jiyeonbag@live.com', 'ogjagim@hotmail.com', 'sangceol00@daum.net', 'fgim@nate.com', 'ijeongho@naver.com', 'gimeunseo@hotmail.com', 'tbag@naver.com', 'gimmyeongja@daum.net', 'cyun@daum.net', 'yeongsunyu@naver.com', 'yunyeongsu@gmail.com', 'qhong@hanmail.net', 'ci@hotmail.com', 'mca@dreamwiz.com', 'gyeongsug14@gmail.com', 'gimsunja@nate.com', 'junhobaeg@hanmail.net', 'ocoe@hotmail.com', 'sonjihun@nate.com', 'seongminjang@naver.com', 'iyeonghwan@naver.com', 'gweonmijeong@hotmail.com', 'yeweongo@hanmail.net', 'gimjeongho@naver.com', 'camyeongsug@hanmail.net', 'pbag@naver.com', 'ni@nate.com', 'seonyeongbaeg@dreamwiz.com', 'songjinho@nate.com', 'to@hanmail.net', 'yeji01@hotmail.com', 'fyun@live.com', 'yejun85@dreamwiz.com', 'songminji@naver.com', 'goeunjeong@nate.com', 'junho99@nate.com', 'hson@hanmail.net', 'gimseoyeong@naver.com', 'zha@dreamwiz.com', 'gwangsu07@dreamwiz.com', 'jeonghyejin@hanmail.net', 'ggim@daum.net', 'hcoe@daum.net', 'byeongceol08@dreamwiz.com', 'imiyeong@naver.com', 'cseo@naver.com', 'gyeongsugyun@hanmail.net', 'sangceol88@hotmail.com', 'gyeonghyijo@hotmail.com', 'coeseongjin@dreamwiz.com', 'uhong@naver.com', 'seonghyeongim@dreamwiz.com', 'syun@hanmail.net', 'jongsuan@daum.net', 'agim@daum.net', 'gimeunju@hotmail.com', 'sugja46@nate.com', 'jeongsuni@live.com', 'jihyegim@hanmail.net', 'jiminryu@hotmail.com', 'yeji37@gmail.com', 'seoyun70@live.com', 'hongjihyeon@hanmail.net', 'obag@dreamwiz.com', 'gimminseog@hotmail.com', 'ganghayun@naver.com', 'subin85@gmail.com', 'seongmin93@live.com', 'seogyeongja@dreamwiz.com', 'seunghyeonhong@gmail.com', 'gimyeonghwan@gmail.com', 'gimhyeonji@live.com', 'miyeong29@daum.net', 'seunghyeonjeon@nate.com', 'vi@dreamwiz.com', 'yeongil74@naver.com', 'imiyeong@hotmail.com', 'gwangsu79@nate.com', 'gyeonghyi25@gmail.com', 'iyeonggil@nate.com', 'seoyeong64@gmail.com', 'gimminseo@nate.com', 'hyeonjeongi@daum.net', 'jinho45@hanmail.net', 'ecoe@daum.net', 'gimjeongja@hanmail.net', 'yeongjagang@dreamwiz.com', 'sujingim@live.com', 'yeonghyi26@live.com', 'ei@gmail.com', 'yeonghwanbag@dreamwiz.com', 'hyeonjun99@hotmail.com', 'ygim@hanmail.net', 'sangho32@gmail.com', 'yeongjinryu@hanmail.net', 'bi@live.com', 'seohyeon51@gmail.com', 'gimyeweon@live.com', 'yno@hotmail.com', 'seojun50@daum.net', 'ncoe@naver.com', 'gimseohyeon@hotmail.com', 'zhan@hotmail.com', 'ihyeonu@naver.com', 'myeongjajo@naver.com', 'yeonggili@dreamwiz.com', 'yeweon82@live.com', 'pi@nate.com', 'uyang@gmail.com', 'junyeongji@naver.com', 'jiajang@dreamwiz.com', 'yeonghwangim@dreamwiz.com', 'ggim@hanmail.net', 'jeongsug61@gmail.com', 'simhyeonjeong@naver.com', 'hongeunju@nate.com', 'minjaei@dreamwiz.com', 'sanghun96@naver.com', 'egang@daum.net', 'yeonggil83@gmail.com', 'jeonghohwang@dreamwiz.com', 'hayun04@nate.com', 'eju@gmail.com', 'hyeonjuni@hotmail.com', 'yeongceol19@dreamwiz.com', 'yejiyun@live.com', 'boram79@nate.com', 'sanghogim@naver.com', 'gimyujin@dreamwiz.com', 'gweoneunjeong@hotmail.com', 'hyejin73@naver.com', 'gimboram@naver.com', 'misuggim@dreamwiz.com', 'ahong@nate.com', 'gimseoyun@naver.com', 'gimyunseo@nate.com', 'gimjunhyeog@daum.net', 'ryuyeongsu@gmail.com', 'gimjeongsu@nate.com', 'hanmyeongja@dreamwiz.com', 'seoseungmin@live.com', 'seoyeonghyi@dreamwiz.com', 'jiweonyu@hanmail.net', 'jongsucoe@hotmail.com', 'li@dreamwiz.com', 'anjongsu@hotmail.com', 'jangjunhyeog@nate.com', 'yeongceolgang@hanmail.net', 'bagyujin@live.com', 'sanghyeon09@gmail.com', 'noyeongho@gmail.com', 'bagseohyeon@daum.net', 'jeonghyibag@hanmail.net', 'junyeong71@hanmail.net', 'simeunju@hotmail.com', 'coeminji@hotmail.com', 'sumin49@hanmail.net', 'yeji98@gmail.com', 'jomigyeong@dreamwiz.com', 'sugja42@live.com', 'junhogo@live.com', 'lno@hotmail.com', 'sangceol93@daum.net', 'ei@hotmail.com', 'vhan@hotmail.com', 'donghyeon99@nate.com', 'isanghun@nate.com', 'yeongsigbag@live.com', 'baegyeonghyi@hanmail.net', 'anjunyeong@naver.com', 'minjae70@naver.com', 'jeonseohyeon@nate.com', 'gyeongsugwag@daum.net', 'jeonghyigo@hanmail.net', 'ggim@hotmail.com', 'hangeonu@gmail.com', 'hwanggeonu@hanmail.net', 'jinugang@gmail.com', 'wi@gmail.com', 'seoyeonghwan@live.com', 'jihye29@dreamwiz.com', 'jungsu16@daum.net', 'jiugim@naver.com', 'xi@naver.com', 'ogim@nate.com', 'jinhohan@dreamwiz.com', 'jinuseo@daum.net', 'isiu@naver.com', 'gyeongjagim@hotmail.com', 'jiyeoni@nate.com', 'gimhaeun@daum.net', 'sangho89@naver.com', 'gimcaeweon@dreamwiz.com', 'coesunja@hotmail.com', 'mbag@daum.net', 'oujin@live.com', 'baegminji@dreamwiz.com', 'gwangsubag@live.com', 'junhyeogyang@gmail.com', 'seongjingim@hotmail.com', 'seonghunbag@daum.net', 'sumin85@naver.com', 'songogsun@hotmail.com', 'byeongceolgang@daum.net', 'jiyeong98@daum.net', 'gimjunseo@naver.com', 'eungyeong42@gmail.com', 'hyeonucoe@daum.net', 'ujinnam@dreamwiz.com', 'ggwag@naver.com', 'hongyeongceol@hanmail.net', 'eunseojang@hotmail.com', 'eungyeongbag@naver.com', 'coehyeonsug@hanmail.net', 'gimeunyeong@naver.com', 'mseo@hanmail.net', 'abaeg@hanmail.net', 'kgim@daum.net', 'ni@naver.com', 'gimjiyeong@hotmail.com', 'gi@daum.net', 'ei@live.com', 'eunjeong55@live.com', 'gyeongsug85@naver.com', 'jeongho09@dreamwiz.com', 'yejuni@gmail.com', 'ji@hanmail.net', 'hyeonui@nate.com', 'yeongja45@dreamwiz.com', 'yunjia@live.com', 'gangjiyeon@naver.com', 'ngim@hotmail.com', 'hyeonjigim@live.com', 'jongsu80@live.com', 'gimsanghun@daum.net', 'vbag@dreamwiz.com', 'seoyun95@dreamwiz.com', 'yeongsun68@hanmail.net', 'kjeong@nate.com', 'jgim@gmail.com', 'wbag@naver.com', 'eunji96@dreamwiz.com', 'dohyeon83@live.com', 'seonyeongo@live.com', 'tim@live.com', 'gyeongsugsin@naver.com', 'jeongsugbag@naver.com', 'jinu57@hotmail.com', 'sugjaseo@daum.net', 'baeyeongho@live.com', 'si@hotmail.com', 'ni@hotmail.com', 'cseong@live.com', 'eunjeonggweon@hotmail.com', 'qgim@daum.net', 'ijunseo@hanmail.net', 'znam@dreamwiz.com', 'jiweon66@nate.com', 'seoyeoni@naver.com', 'seonyeong18@nate.com', 'eunseo86@hanmail.net', 'gi@naver.com', 'sujin53@naver.com', 'hyeonjun44@daum.net', 'yseong@dreamwiz.com', 'eunseo28@hanmail.net', 'seongmin93@daum.net', 'gimjimin@hanmail.net', 'sanghyeon25@hanmail.net', 'yeongjincoe@naver.com', 'bagseongho@daum.net', 'wjeong@daum.net', 'pbae@live.com', 'jeonghyi95@gmail.com', 'jihun91@daum.net', 'mijeong50@gmail.com', 'yeeun10@live.com', 'jeongsun29@live.com', 'jiyeong94@naver.com', 'jeonghyigim@dreamwiz.com', 'junhyeogi@live.com', 'seoyeon42@hanmail.net', 'junhogim@live.com', 'xi@hotmail.com', 'seunghyeon48@gmail.com', 'hyeonji37@hanmail.net', 'jiyeong15@naver.com', 'cunjai@dreamwiz.com', 'fbag@hotmail.com', 'ijihun@nate.com', 'jinho98@daum.net', 'yejuni@live.com', 'sugjagim@nate.com', 'sanghyeonryu@hotmail.com', 'hyeonjui@dreamwiz.com', 'heohyeonu@live.com', 'geonui@daum.net', 'yeongmi72@daum.net', 'jeongnamgim@hotmail.com', 'pbag@nate.com', 'bbag@hanmail.net', 'ebag@nate.com', 'baeseonghun@hotmail.com', 'bi@daum.net', 'jia62@daum.net', 'cyun@hanmail.net', 'gimjimin@naver.com', 'hyeonjun15@gmail.com', 'jjeon@live.com', 'junyeong27@hotmail.com', 'jgim@hanmail.net', 'wsong@dreamwiz.com', 'jeongsun58@nate.com', 'yeongsugmun@live.com', 'seongho37@hotmail.com', 'zgim@naver.com', 'jangjeongho@daum.net', 'ogjagim@naver.com', 'eunyeonggim@daum.net', 'yeeun91@dreamwiz.com', 'eseo@daum.net', 'yunseo73@live.com', 'jiweon53@hanmail.net', 'thong@daum.net', 'ogang@gmail.com', 'jeongjihyeon@live.com', 'jangjinu@daum.net', 'gimyeongceol@naver.com', 'yeongjinjo@live.com', 'iseongmin@nate.com', 'jihyeon21@gmail.com', 'hyeonjii@live.com', 'doyun71@gmail.com', 'baggyeongja@dreamwiz.com', 'ijihun@naver.com', 'ihaeun@naver.com', 'zi@nate.com', 'baedonghyeon@hanmail.net', 'jinugim@naver.com', 'mmun@live.com', 'jangyeongmi@dreamwiz.com', 'gimjeongsu@hanmail.net', 'jihyei@hotmail.com', 'yunseo25@daum.net', 'mijeongi@live.com', 'minsugim@live.com', 'gimcunja@daum.net', 'caseungmin@nate.com', 'gimjeongung@naver.com', 'haeunjang@dreamwiz.com', 'pgim@hotmail.com', 'yeeungim@hanmail.net', 'tgim@hanmail.net', 'yeonghwani@gmail.com', 'jeongsunbaeg@gmail.com', 'jihyeonca@dreamwiz.com', 'jiyeongcoe@live.com', 'jiyeong39@naver.com', 'yeongsun21@nate.com', 'simseoyeong@hanmail.net', 'jiyeongi@hotmail.com', 'imyeongja@hanmail.net', 'nojunyeong@hanmail.net', 'sujinsin@gmail.com', 'cgwag@naver.com', 'jiyeongim@live.com', 'hyeonjicoe@daum.net', 'donghyeongim@gmail.com', 'mgim@dreamwiz.com', 'pgang@live.com', 'miyeong56@hanmail.net', 'bagyujin@daum.net', 'ggim@naver.com', 'yejun29@dreamwiz.com', 'zi@hotmail.com', 'pyun@naver.com', 'rgim@naver.com', 'yunsangceol@naver.com', 'umyeongja@naver.com', 'vbae@hanmail.net', 'boram04@hanmail.net', 'jihyegim@live.com', 'bagminjun@daum.net', 'hanbyeongceol@nate.com', 'jeongho28@dreamwiz.com', 'gimjunhyeog@live.com', 'jaehyeonbag@hanmail.net', 'oseoyeong@dreamwiz.com', 'minseo06@gmail.com', 'gimsunog@daum.net', 'jeonghyii@nate.com', 'jiyeonggim@daum.net', 'ujinson@nate.com', 'jeongjasim@daum.net', 'tyun@hanmail.net', 'hongyeongho@dreamwiz.com', 'minjae67@live.com', 'siugim@naver.com', 'iogja@hanmail.net', 'lyun@gmail.com', 'ijihu@gmail.com', 'cjang@naver.com', 'juweongim@gmail.com', 'junseosong@live.com', 'jongsu96@nate.com', 'yunsujin@dreamwiz.com', 'hyeonjeongo@hanmail.net', 'bagminjun@hotmail.com', 'imyejun@hotmail.com', 'ngang@nate.com', 'ggo@nate.com', 'ji@nate.com', 'seonyeongbag@gmail.com', 'coejeonghun@dreamwiz.com', 'ibag@daum.net', 'yeongho49@dreamwiz.com', 'doyun09@hotmail.com', 'seongjinhong@hanmail.net', 'jeongsu65@live.com', 'jeonghyi63@nate.com', 'geonu86@dreamwiz.com', 'jia11@hanmail.net', 'geonu72@nate.com', 'gyeongsuggim@live.com', 'jiyeong51@gmail.com', 'hanyeweon@nate.com', 'dsong@hanmail.net', 'lha@naver.com', 'jinjeongja@nate.com', 'gimeunjeong@live.com', 'yeongsuu@gmail.com', 'zyun@hotmail.com', 'geonu91@dreamwiz.com', 'ihaeun@daum.net', 'hongseunghyeon@live.com', 'sugjagim@hanmail.net', 'jieungim@hotmail.com', 'yeongsigcoe@naver.com', 'yeweon96@gmail.com', 'pi@live.com', 'hanyeji@hotmail.com', 'bagmyeongja@naver.com', 'jiweon51@hotmail.com', 'yeongsiggim@live.com', 'yujin55@live.com', 'yunseocoe@hanmail.net', 'ino@dreamwiz.com', 'eomeunji@nate.com', 'tbag@gmail.com', 'ygim@live.com', 'jgim@daum.net', 'coejeongja@live.com', 'hgu@nate.com', 'junho00@hanmail.net', 'hyeonsughong@dreamwiz.com', 'wmin@daum.net', 'ogsunjang@daum.net', 'jaeho07@hotmail.com', 'seonghungweon@dreamwiz.com', 'hwangdohyeon@dreamwiz.com', 'bi@gmail.com', 'hi@live.com', 'ujingim@hotmail.com', 'yeongsugno@hotmail.com', 'bhwang@daum.net', 'ujinryu@dreamwiz.com', 'jaeho96@nate.com', 'eunseogweon@dreamwiz.com', 'fi@hanmail.net', 'baegyeonghyi@daum.net', 'gyeongsuggim@nate.com', 'bgim@daum.net', 'yunyeeun@nate.com', 'rgim@hotmail.com', 'wgim@nate.com', 'minjeongsig@hanmail.net', 'jeongsigbag@hotmail.com', 'yujeongung@daum.net', 'gimeunju@daum.net', 'seonyeongcoe@gmail.com', 'jinho41@dreamwiz.com', 'hwangjiweon@naver.com', 'ygo@daum.net', 'gimjiu@dreamwiz.com', 'boram02@gmail.com', 'iseongjin@daum.net', 'hbaeg@naver.com', 'yeongsu32@hotmail.com', 'eunyeongbag@daum.net', 'jimin79@dreamwiz.com', 'hyeonjunam@nate.com', 'anyunseo@live.com', 'gimjiyeong@gmail.com', 'nbag@live.com', 'jaehyeongim@naver.com', 'idohyeon@nate.com', 'gangseonyeong@naver.com', 'rhwang@daum.net', 'junseogim@gmail.com', 'sunogsong@live.com', 'ijang@live.com', 'rgwag@gmail.com', 'au@hanmail.net', 'jaehosong@gmail.com', 'tan@hanmail.net', 'gyeongsubag@gmail.com', 'seonghyeonbag@nate.com', 'gwaggyeongsug@nate.com', 'lyang@hotmail.com', 'songjiyeon@nate.com', 'migyeongsong@hanmail.net', 'ri@hanmail.net', 'hongyujin@live.com', 'junhobag@gmail.com', 'wnam@hotmail.com', 'caeweon78@live.com', 'sanghun02@daum.net', 'vmin@gmail.com', 'yeongsuni@naver.com', 'byeongceolgim@daum.net', 'fyun@nate.com', 'seoyuni@hanmail.net', 'yunseohyeon@naver.com', 'bagjinu@nate.com', 'igyeongja@gmail.com', 'coejieun@daum.net', 'gimseoyeon@hotmail.com', 'junhoji@live.com', 'gimyeongmi@live.com', 'gmun@gmail.com', 'qcoe@daum.net', 'ojang@nate.com', 'coeseoyeon@daum.net', 'su@naver.com', 'juweon48@dreamwiz.com', 'igang@naver.com', 'ogja04@hanmail.net', 'hyeonjungim@hotmail.com', 'hyeonugim@hanmail.net', 'seongmin10@live.com', 'eunji96@daum.net', 'gimseunghyeon@dreamwiz.com', 'jeongmigyeong@dreamwiz.com', 'jeonghyigim@daum.net', 'geonu34@live.com', 'anhyeonjun@naver.com', 'xyang@daum.net', 'gimjihye@live.com', 'jinhoi@naver.com', 'ogsun27@naver.com', 'bagjaehyeon@hotmail.com', 'eunjeongjo@daum.net', 'ogsuncoe@nate.com', 'gimseongjin@nate.com', 'hayungo@nate.com', 'hyeonju52@nate.com', 'khwang@daum.net', 'jiyeong13@hotmail.com', 'yeongceol28@hanmail.net', 'areumgim@gmail.com', 'hyeonju84@live.com', 'seojungim@naver.com', 'ijuweon@hanmail.net', 'boramo@naver.com', 'jongsui@gmail.com', 'coeareum@dreamwiz.com', 'gimyeongmi@gmail.com', 'eunyeong16@live.com', 'gimjeonghun@dreamwiz.com', 'sunoggim@hotmail.com', 'jinubag@naver.com', 'seohyeon59@live.com', 'abag@nate.com', 'yeeun70@hotmail.com', 'goyeongjin@naver.com', 'hcoe@live.com', 'hanmiyeong@gmail.com', 'sujini@nate.com', 'jeongjamun@daum.net', 'ihyeonu@gmail.com', 'ui@naver.com', 'jihugim@gmail.com', 'sanghoyang@naver.com', 'minseogo@daum.net', 'jiu37@daum.net', 'ogim@dreamwiz.com', 'eungyeong28@hotmail.com', 'jinhoo@hotmail.com', 'jimin08@naver.com', 'oyun@live.com', 'seonyeong85@nate.com', 'qi@live.com', 'gwangsu58@daum.net', 'yeongilgim@nate.com', 'yeongsugbag@live.com', 'caeweon46@hotmail.com', 'bagyeongjin@daum.net', 'jeongsu80@live.com', 'agim@live.com', 'ri@hotmail.com', 'eseo@gmail.com', 'sangho40@daum.net', 'dgim@naver.com', 'hyeonjeongi@naver.com', 'yeongil44@live.com', 'gimsubin@hanmail.net', 'oi@hotmail.com', 'ryuseonyeong@nate.com', 'seonyeongcoe@live.com', 'yujin85@daum.net', 'kgim@gmail.com', 'hayeongmi@hotmail.com', 'gimjongsu@gmail.com', 'gweonhyeonji@daum.net', 'hwangjia@gmail.com', 'baegjaehyeon@naver.com', 'gyeongsug59@gmail.com', 'sumin06@live.com', 'jungsu97@dreamwiz.com', 'iseongho@dreamwiz.com']\n"
     ]
    }
   ],
   "source": [
    "from faker import Faker\n",
    "fake = Faker('ko_KR') # locale 정보 설정\n",
    "Faker.seed() # 초기 seed 설정\n",
    "\n",
    "repeat_count = 1000 # 1000 회 반복하며 더미 데이터 생성\n",
    "email = [fake.unique.free_email() for i in range(repeat_count)] # unique 추가시 고유값 생성\n",
    "print(email)"
   ],
   "metadata": {
    "collapsed": false,
    "ExecuteTime": {
     "end_time": "2023-05-17T05:14:30.314392500Z",
     "start_time": "2023-05-17T05:14:30.219484600Z"
    }
   }
  },
  {
   "cell_type": "code",
   "execution_count": 4,
   "outputs": [
    {
     "name": "stdout",
     "output_type": "stream",
     "text": [
      "     name          phone user_status user_class                   email   \n",
      "0     홍정훈  010-8194-0643      active       VVIP           pcoe@daum.net  \\\n",
      "1     박영길  010-3787-0391      active     Family      jeongho05@live.com   \n",
      "2     안미숙  010-7142-4613      active        VIP    eunyeonggim@live.com   \n",
      "3     전시우  010-2958-5351      active       VVIP        ryujihu@nate.com   \n",
      "4     김영희  010-4115-4820      active        VIP  boramhwang@hotmail.com   \n",
      "...   ...            ...         ...        ...                     ...   \n",
      "9995  최민석  010-8642-5095      active        VIP    gimsangceol@daum.net   \n",
      "9996  양수빈  010-3854-6253      active     Family      jiweon37@gmail.com   \n",
      "9997  김정순  010-8321-7215      active        VIP        ogsun70@live.com   \n",
      "9998  최지후  010-2470-5780      active       VVIP       yeeunseo@daum.net   \n",
      "9999  김지은  010-7522-9861      active       VVIP    bagjeongsun@live.com   \n",
      "\n",
      "     marketing_agree social_login last_logged_at  created_at  \n",
      "0                  0        naver     2023-04-03  2023-02-24  \n",
      "1                  1     facebook     2022-06-24  2022-07-21  \n",
      "2                  0     facebook     2023-02-05  2022-07-06  \n",
      "3                  0       google     2023-01-07  2023-01-15  \n",
      "4                  0     facebook     2022-06-22  2022-07-14  \n",
      "...              ...          ...            ...         ...  \n",
      "9995               0        kakao     2023-03-06  2022-09-26  \n",
      "9996               1        naver     2022-07-31  2022-09-13  \n",
      "9997               0       google     2022-08-05  2022-06-17  \n",
      "9998               0        kakao     2023-03-27  2023-04-10  \n",
      "9999               1        kakao     2022-11-01  2023-04-16  \n",
      "\n",
      "[10000 rows x 9 columns]\n"
     ]
    }
   ],
   "source": [
    "from faker import Faker\n",
    "import random\n",
    "import pandas as pd\n",
    "\n",
    "fake = Faker('ko_KR')\n",
    "Faker.seed(1)\n",
    "\n",
    "repeat_count = 10000\n",
    "\n",
    "name = [fake.name() for i in range(repeat_count)]\n",
    "phone = [\n",
    "    ('010-'+str(random.randint(1, 9999)).zfill(4)\n",
    "        +'-'+str(random.randint(1, 9999)).zfill(4))\n",
    "    for i in range(repeat_count)\n",
    "]\n",
    "user_status \t= ['active' for i in range(repeat_count)]\n",
    "user_class \t\t= [random.choice(['일반','Family', 'VIP', 'VVIP']) for i in range(repeat_count)]\n",
    "email \t\t\t= [fake.unique.free_email() for i in range(repeat_count)]\n",
    "marketing_agree = [random.choice(['0','1']) for i in range(repeat_count)]\n",
    "social_login \t= [random.choice(['google','facebook','kakao','naver']) for i in range(repeat_count)]\n",
    "last_logged_at \t= [fake.date_between(start_date = '-1y', end_date ='today') for i in range(repeat_count)]\n",
    "created_at \t\t= [fake.date_between(start_date = '-1y', end_date ='today') for i in range(repeat_count)]\n",
    "\n",
    "df = pd.DataFrame()\n",
    "df['name'] = name\n",
    "df['phone'] = phone\n",
    "df['user_status'] = user_status\n",
    "df['user_class'] = user_class\n",
    "df['email'] = email\n",
    "df['marketing_agree'] = marketing_agree\n",
    "df['social_login'] = social_login\n",
    "df['last_logged_at'] = last_logged_at\n",
    "df['created_at'] = created_at\n",
    "\n",
    "print(df)"
   ],
   "metadata": {
    "collapsed": false,
    "ExecuteTime": {
     "end_time": "2023-05-17T05:15:16.140158100Z",
     "start_time": "2023-05-17T05:15:12.581830400Z"
    }
   }
  },
  {
   "cell_type": "code",
   "execution_count": 5,
   "outputs": [
    {
     "name": "stdout",
     "output_type": "stream",
     "text": [
      "     name          phone user_status user_class                   email   \n",
      "0     홍정훈  010-2827-1174      active         일반           pcoe@daum.net  \\\n",
      "1     박영길  010-7826-3755      active     Family      jeongho05@live.com   \n",
      "2     안미숙  010-0137-0527      active        VIP    eunyeonggim@live.com   \n",
      "3     전시우  010-6718-0372      active         일반        ryujihu@nate.com   \n",
      "4     김영희  010-5762-7419      active     Family  boramhwang@hotmail.com   \n",
      "...   ...            ...         ...        ...                     ...   \n",
      "9995  최민석  010-5765-1567      active       VVIP    gimsangceol@daum.net   \n",
      "9996  양수빈  010-1012-7492      active         일반      jiweon37@gmail.com   \n",
      "9997  김정순  010-1803-6897      active         일반        ogsun70@live.com   \n",
      "9998  최지후  010-2482-9514      active        VIP       yeeunseo@daum.net   \n",
      "9999  김지은  010-9923-0181      active        VIP    bagjeongsun@live.com   \n",
      "\n",
      "     marketing_agree social_login last_logged_at  created_at  \n",
      "0                  0        naver     2023-04-03  2023-02-24  \n",
      "1                  0       google     2022-06-24  2022-07-21  \n",
      "2                  1        kakao     2023-02-05  2022-07-06  \n",
      "3                  0        kakao     2023-01-07  2023-01-15  \n",
      "4                  0       google     2022-06-22  2022-07-14  \n",
      "...              ...          ...            ...         ...  \n",
      "9995               1     facebook     2023-03-06  2022-09-26  \n",
      "9996               1     facebook     2022-07-31  2022-09-13  \n",
      "9997               1     facebook     2022-08-05  2022-06-17  \n",
      "9998               0        kakao     2023-03-27  2023-04-10  \n",
      "9999               0       google     2022-11-01  2023-04-16  \n",
      "\n",
      "[10000 rows x 9 columns]\n"
     ]
    }
   ],
   "source": [
    "from faker import Faker\n",
    "import random\n",
    "import pandas as pd\n",
    "\n",
    "fake = Faker('ko_KR')\n",
    "Faker.seed(1)\n",
    "\n",
    "repeat_count = 10000\n",
    "\n",
    "name = [fake.name() for i in range(repeat_count)]\n",
    "phone = [\n",
    "    ('010-'+str(random.randint(1, 9999)).zfill(4)\n",
    "        +'-'+str(random.randint(1, 9999)).zfill(4))\n",
    "    for i in range(repeat_count)\n",
    "]\n",
    "user_status \t= ['active' for i in range(repeat_count)]\n",
    "user_class \t\t= [random.choice(['일반','Family', 'VIP', 'VVIP']) for i in range(repeat_count)]\n",
    "email \t\t\t= [fake.unique.free_email() for i in range(repeat_count)]\n",
    "marketing_agree = [random.choice(['0','1']) for i in range(repeat_count)]\n",
    "social_login \t= [random.choice(['google','facebook','kakao','naver']) for i in range(repeat_count)]\n",
    "last_logged_at \t= [fake.date_between(start_date = '-1y', end_date ='today') for i in range(repeat_count)]\n",
    "created_at \t\t= [fake.date_between(start_date = '-1y', end_date ='today') for i in range(repeat_count)]\n",
    "\n",
    "df = pd.DataFrame()\n",
    "df['name'] = name\n",
    "df['phone'] = phone\n",
    "df['user_status'] = user_status\n",
    "df['user_class'] = user_class\n",
    "df['email'] = email\n",
    "df['marketing_agree'] = marketing_agree\n",
    "df['social_login'] = social_login\n",
    "df['last_logged_at'] = last_logged_at\n",
    "df['created_at'] = created_at\n",
    "\n",
    "print(df)"
   ],
   "metadata": {
    "collapsed": false,
    "ExecuteTime": {
     "end_time": "2023-05-17T05:20:42.609825400Z",
     "start_time": "2023-05-17T05:20:41.224329200Z"
    }
   }
  },
  {
   "cell_type": "markdown",
   "source": [
    "no"
   ],
   "metadata": {
    "collapsed": false
   }
  },
  {
   "cell_type": "code",
   "execution_count": null,
   "outputs": [],
   "source": [],
   "metadata": {
    "collapsed": false
   }
  },
  {
   "cell_type": "markdown",
   "source": [
    "체온"
   ],
   "metadata": {
    "collapsed": false
   }
  },
  {
   "cell_type": "code",
   "execution_count": 9,
   "outputs": [
    {
     "name": "stdout",
     "output_type": "stream",
     "text": [
      "36.5\n"
     ]
    }
   ],
   "source": [
    "import random\n",
    "from faker import Faker\n",
    "\n",
    "fake_temp = Faker()\n",
    "\n",
    "# 36.0에서 37.5 사이의 소수 생성 (소숫점 한 자리까지)\n",
    "random_float = round(random.uniform(36.0, 37.5), 1)\n",
    "print(random_float)"
   ],
   "metadata": {
    "collapsed": false,
    "ExecuteTime": {
     "end_time": "2023-05-17T05:31:03.901221Z",
     "start_time": "2023-05-17T05:31:03.838736200Z"
    }
   }
  },
  {
   "cell_type": "markdown",
   "source": [
    "맥박"
   ],
   "metadata": {
    "collapsed": false
   }
  },
  {
   "cell_type": "code",
   "execution_count": 12,
   "outputs": [
    {
     "name": "stdout",
     "output_type": "stream",
     "text": [
      "62\n"
     ]
    }
   ],
   "source": [
    "import random\n",
    "from faker import Faker\n",
    "\n",
    "heart_fake = Faker()\n",
    "\n",
    "random_float = round(random.uniform(60, 70))\n",
    "print(random_float)"
   ],
   "metadata": {
    "collapsed": false,
    "ExecuteTime": {
     "end_time": "2023-05-17T05:34:31.959570200Z",
     "start_time": "2023-05-17T05:34:31.905325100Z"
    }
   }
  },
  {
   "cell_type": "markdown",
   "source": [
    "산포도"
   ],
   "metadata": {
    "collapsed": false
   }
  },
  {
   "cell_type": "code",
   "execution_count": 13,
   "outputs": [
    {
     "name": "stdout",
     "output_type": "stream",
     "text": [
      "97\n"
     ]
    }
   ],
   "source": [
    "import random\n",
    "from faker import Faker\n",
    "\n",
    "heart_spo2 = Faker()\n",
    "\n",
    "random_float = round(random.uniform(95, 99))\n",
    "print(random_float)"
   ],
   "metadata": {
    "collapsed": false,
    "ExecuteTime": {
     "end_time": "2023-05-17T05:37:39.898393200Z",
     "start_time": "2023-05-17T05:37:39.851499200Z"
    }
   }
  },
  {
   "cell_type": "code",
   "execution_count": 25,
   "outputs": [
    {
     "name": "stdout",
     "output_type": "stream",
     "text": [
      "        No  UserCode  Heartbeat  Temperature  Spo2  GyroX  GyroY  GyroZ   \n",
      "1     0001         1         61         36.0    95      0      0      0  \\\n",
      "2     0002         1         68         36.2    99      0      0      0   \n",
      "3     0003         1         68         37.4    98      0      0      0   \n",
      "4     0004         1         67         37.3    97      0      0      0   \n",
      "5     0005         1         66         37.2    99      0      0      0   \n",
      "...    ...       ...        ...          ...   ...    ...    ...    ...   \n",
      "1796  1796         1         65         37.2    99      0      0      0   \n",
      "1797  1797         1         69         36.8    96      0      0      0   \n",
      "1798  1798         1         66         36.6    95      0      0      0   \n",
      "1799  1799         1         62         36.7    97      0      0      0   \n",
      "1800  1800         1         65         36.3    98      0      0      0   \n",
      "\n",
      "     VitalDate  \n",
      "1     14:48:49  \n",
      "2     14:49:38  \n",
      "3     14:50:27  \n",
      "4     14:51:16  \n",
      "5     14:52:05  \n",
      "...        ...  \n",
      "1796  15:17:43  \n",
      "1797  15:18:32  \n",
      "1798  15:19:21  \n",
      "1799  15:20:10  \n",
      "1800  15:21:00  \n",
      "\n",
      "[1800 rows x 9 columns]\n"
     ]
    }
   ],
   "source": [
    "import pandas as pd\n",
    "from faker import Faker\n",
    "from datetime import datetime, timedelta\n",
    "import random\n",
    "\n",
    "fake = Faker()\n",
    "\n",
    "# 데이터프레임 생성\n",
    "df = pd.DataFrame(columns=['No', 'UserCode', 'Heartbeat', 'Temperature', 'Spo2', 'VitalTime'])\n",
    "\n",
    "# 데이터 생성을 위한 변수 초기화\n",
    "start_time = datetime.strptime('14:48:00', '%H:%M:%S')  # datetime 객체로 변경\n",
    "\n",
    "# 데이터프레임에 행 추가\n",
    "index = 0\n",
    "\n",
    "# 10,000번 반복하여 데이터 생성\n",
    "for n in range(1, 11):\n",
    "    user_start_time = start_time + timedelta(seconds=2 * (n - 1) * 1000)  # UserCode마다 시작 시간 계산\n",
    "    for i in range(1000):\n",
    "        no = str(i + 1).zfill(5)  # No를 00001 형식으로 생성\n",
    "        user_code = n\n",
    "        heartbeat = random.randint(60, 70)\n",
    "        temperature = round(random.uniform(36.0, 37.5), 1)\n",
    "        spo2 = random.randint(95, 99)\n",
    "        seconds = 2 * i  # 초 단위로 누적된 값\n",
    "\n",
    "        # UserCode마다 시작 시간 계산\n",
    "        vital_time = (user_start_time + timedelta(seconds=seconds)).strftime('%H:%M:%S')  # 시간만 문자열로 변환\n",
    "\n",
    "        # 데이터프레임에 행 추가\n",
    "        df.loc[index] = [no, user_code, heartbeat, temperature, spo2, vital_time]\n",
    "        index += 1\n",
    "\n",
    "# 데이터프레임 출력\n",
    "print(df)"
   ],
   "metadata": {
    "collapsed": false,
    "ExecuteTime": {
     "end_time": "2023-05-17T08:31:38.075949700Z",
     "start_time": "2023-05-17T08:31:36.491272500Z"
    }
   }
  },
  {
   "cell_type": "code",
   "execution_count": 20,
   "outputs": [],
   "source": [
    "# 데이터프레임을 CSV 파일로 저장\n",
    "df.to_csv('data.csv', index=False)"
   ],
   "metadata": {
    "collapsed": false,
    "ExecuteTime": {
     "end_time": "2023-05-17T07:30:31.762799Z",
     "start_time": "2023-05-17T07:30:31.747153400Z"
    }
   }
  },
  {
   "cell_type": "code",
   "execution_count": 8,
   "outputs": [
    {
     "name": "stdout",
     "output_type": "stream",
     "text": [
      "         No  UserCode  Heartbeat  Temperature  Spo2 VitalDate\n",
      "1     00002         8         62         36.4    95  14:48:02\n",
      "2         3         8         70         37.4    98  14:48:04\n",
      "3         4         8         61         36.4    95  14:48:06\n",
      "4         5         8         60         36.8    96  14:48:08\n",
      "5         6         8         60         36.4    97  14:48:10\n",
      "...     ...       ...        ...          ...   ...       ...\n",
      "1496   1497         8         64         37.4    98  15:37:52\n",
      "1497   1498         8         70         37.3    96  15:37:54\n",
      "1498   1499         8         60         37.0    97  15:37:56\n",
      "1499   1500         8         60         36.4    97  15:37:58\n",
      "1500   1501         8         68         37.3    96  15:38:00\n",
      "\n",
      "[1500 rows x 6 columns]\n"
     ]
    }
   ],
   "source": [],
   "metadata": {
    "collapsed": false,
    "ExecuteTime": {
     "end_time": "2023-05-17T06:54:17.223555800Z",
     "start_time": "2023-05-17T06:54:14.040804500Z"
    }
   }
  }
 ],
 "metadata": {
  "kernelspec": {
   "display_name": "Python 3",
   "language": "python",
   "name": "python3"
  },
  "language_info": {
   "codemirror_mode": {
    "name": "ipython",
    "version": 2
   },
   "file_extension": ".py",
   "mimetype": "text/x-python",
   "name": "python",
   "nbconvert_exporter": "python",
   "pygments_lexer": "ipython2",
   "version": "2.7.6"
  }
 },
 "nbformat": 4,
 "nbformat_minor": 0
}
