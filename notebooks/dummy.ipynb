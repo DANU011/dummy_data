{
 "cells": [
  {
   "cell_type": "markdown",
   "source": [
    "url txt 파일 csv로 저장"
   ],
   "metadata": {
    "collapsed": false
   }
  },
  {
   "cell_type": "code",
   "execution_count": 21,
   "outputs": [
    {
     "name": "stdout",
     "output_type": "stream",
     "text": [
      "변환 완료: ../data/human_activity.csv\n"
     ]
    }
   ],
   "source": [
    "import urllib.request\n",
    "import csv\n",
    "\n",
    "url = \"https://raw.githubusercontent.com/laxmimerit/Human-Activity-Recognition-Using-Accelerometer-Data-and-CNN/master/WISDM_ar_v1.1/WISDM_ar_v1.1_raw.txt\" # txt 파일의 URI\n",
    "filename = \"../data/human_activity.csv\" # 저장할 파일 이름\n",
    "column_names = ['user', 'activity', 'time', 'x', 'y', 'z']\n",
    "\n",
    "# URI에서 파일 다운로드\n",
    "urllib.request.urlretrieve(url, \"temp.txt\")\n",
    "\n",
    "# txt 파일을 csv 파일로 변환하여 저장\n",
    "with open(\"temp.txt\", \"r\") as infile, open(filename, \"w\", newline=\"\") as outfile:\n",
    "    reader = csv.reader(infile, delimiter=\",\")\n",
    "    writer = csv.writer(outfile, delimiter=\",\")\n",
    "\n",
    "    # 열 이름 추가\n",
    "    writer.writerow(column_names)\n",
    "\n",
    " # 데이터 행 추가\n",
    "    for row in reader:\n",
    "        try:\n",
    "            row[5] = row[5].replace(\";\", \"\")\n",
    "            writer.writerow(row)\n",
    "        except IndexError:\n",
    "            pass\n",
    "\n",
    "print(\"변환 완료: \" + filename)\n",
    "\n",
    "# 임시로 다운로드한 txt 파일 삭제\n",
    "import os\n",
    "os.remove(\"temp.txt\")\n"
   ],
   "metadata": {
    "collapsed": false,
    "ExecuteTime": {
     "end_time": "2023-05-14T05:35:52.324803900Z",
     "start_time": "2023-05-14T05:35:26.841493500Z"
    }
   }
  },
  {
   "cell_type": "code",
   "execution_count": 22,
   "outputs": [],
   "source": [
    "import pandas as pd\n",
    "def normalize_dataframe(df):\n",
    "    # x, y, z 열의 값을 -1과 1 사이 값으로 정규화\n",
    "    df['x'] = 2 * (df['x'] - df['x'].min()) / (df['x'].max() - df['x'].min()) - 1\n",
    "    df['y'] = 2 * (df['y'] - df['y'].min()) / (df['y'].max() - df['y'].min()) - 1\n",
    "    df['z'] = 2 * (df['z'] - df['z'].min()) / (df['z'].max() - df['z'].min()) - 1\n",
    "\n",
    "    # 정규화된 데이터프레임의 헤드값 출력\n",
    "    print(df.head())\n",
    "\n",
    "df_other = pd.read_csv('../data/df_other.csv')\n",
    "# df_SisFall = pd.read_csv('../data/df_SisFall.csv')"
   ],
   "metadata": {
    "collapsed": false,
    "ExecuteTime": {
     "end_time": "2023-05-14T05:35:58.028505800Z",
     "start_time": "2023-05-14T05:35:57.470899900Z"
    }
   }
  },
  {
   "cell_type": "code",
   "execution_count": 23,
   "outputs": [
    {
     "name": "stdout",
     "output_type": "stream",
     "text": [
      "          x         y         z activity\n",
      "0 -0.043713  0.628779  0.030396  Jogging\n",
      "1  0.244807  0.557328  0.053206  Jogging\n",
      "2  0.239299  0.538091  0.000674  Jogging\n",
      "3 -0.039581  0.922140  0.158270  Jogging\n",
      "4 -0.068502  0.599924  0.370473  Jogging\n"
     ]
    },
    {
     "data": {
      "text/plain": "          x         y         z activity\n0 -0.043713  0.628779  0.030396  Jogging\n1  0.244807  0.557328  0.053206  Jogging\n2  0.239299  0.538091  0.000674  Jogging\n3 -0.039581  0.922140  0.158270  Jogging\n4 -0.068502  0.599924  0.370473  Jogging",
      "text/html": "<div>\n<style scoped>\n    .dataframe tbody tr th:only-of-type {\n        vertical-align: middle;\n    }\n\n    .dataframe tbody tr th {\n        vertical-align: top;\n    }\n\n    .dataframe thead th {\n        text-align: right;\n    }\n</style>\n<table border=\"1\" class=\"dataframe\">\n  <thead>\n    <tr style=\"text-align: right;\">\n      <th></th>\n      <th>x</th>\n      <th>y</th>\n      <th>z</th>\n      <th>activity</th>\n    </tr>\n  </thead>\n  <tbody>\n    <tr>\n      <th>0</th>\n      <td>-0.043713</td>\n      <td>0.628779</td>\n      <td>0.030396</td>\n      <td>Jogging</td>\n    </tr>\n    <tr>\n      <th>1</th>\n      <td>0.244807</td>\n      <td>0.557328</td>\n      <td>0.053206</td>\n      <td>Jogging</td>\n    </tr>\n    <tr>\n      <th>2</th>\n      <td>0.239299</td>\n      <td>0.538091</td>\n      <td>0.000674</td>\n      <td>Jogging</td>\n    </tr>\n    <tr>\n      <th>3</th>\n      <td>-0.039581</td>\n      <td>0.922140</td>\n      <td>0.158270</td>\n      <td>Jogging</td>\n    </tr>\n    <tr>\n      <th>4</th>\n      <td>-0.068502</td>\n      <td>0.599924</td>\n      <td>0.370473</td>\n      <td>Jogging</td>\n    </tr>\n  </tbody>\n</table>\n</div>"
     },
     "execution_count": 23,
     "metadata": {},
     "output_type": "execute_result"
    }
   ],
   "source": [
    "df_other = pd.read_csv(filename, usecols=range(6))\n",
    "df_other = df_other.iloc[:, [3, 4, 5, 1]]\n",
    "normalize_dataframe(df_other)\n",
    "df_other.head()"
   ],
   "metadata": {
    "collapsed": false,
    "ExecuteTime": {
     "end_time": "2023-05-14T05:35:59.882874500Z",
     "start_time": "2023-05-14T05:35:59.236001600Z"
    }
   }
  },
  {
   "cell_type": "code",
   "execution_count": 24,
   "outputs": [
    {
     "name": "stdout",
     "output_type": "stream",
     "text": [
      "          x         y         z activity\n",
      "0 -0.005994 -0.010220 -0.067430     Fall\n",
      "1 -0.006055 -0.010220 -0.067430     Fall\n",
      "2 -0.006055 -0.010284 -0.067430     Fall\n",
      "3 -0.006086 -0.010220 -0.067515     Fall\n",
      "4 -0.006086 -0.010220 -0.067430     Fall\n"
     ]
    }
   ],
   "source": [
    "df_SisFall = pd.read_csv(\"../data/SisFall_dataset.csv\", usecols=[3, 4, 5, 9], names=[\"x\", \"y\", \"z\", \"activity\"], skiprows=[0])\n",
    "\n",
    "df_SisFall['x'] = df_SisFall['x'].astype(int)\n",
    "df_SisFall['y'] = df_SisFall['y'].astype(int)\n",
    "df_SisFall['z'] = df_SisFall['z'].astype(int)\n",
    "\n",
    "normalize_dataframe(df_SisFall)\n",
    "# df_SisFall.info()"
   ],
   "metadata": {
    "collapsed": false,
    "ExecuteTime": {
     "end_time": "2023-05-14T05:36:05.183984Z",
     "start_time": "2023-05-14T05:36:04.399320700Z"
    }
   }
  },
  {
   "cell_type": "code",
   "execution_count": 10,
   "outputs": [],
   "source": [
    "# import glob\n",
    "#\n",
    "# # Use glob to find all CSV files that match a pattern\n",
    "# files = glob.glob('../glob/*.csv')\n",
    "#\n",
    "# # Create an empty list to store the DataFrames\n",
    "# dfs = []\n",
    "#\n",
    "# # Loop over all CSV files and load them into DataFrames\n",
    "# for file in files:\n",
    "#     dfs.append(pd.read_csv(file))\n",
    "#\n",
    "# # Concatenate all DataFrames into a single DataFrame\n",
    "# merged_df = pd.concat(dfs, ignore_index=True)\n",
    "#\n",
    "# # Write the merged DataFrame to a new CSV file\n",
    "# merged_df.to_csv('../glob/merged.csv', index=False)"
   ],
   "metadata": {
    "collapsed": false,
    "ExecuteTime": {
     "end_time": "2023-05-14T05:24:32.246203400Z",
     "start_time": "2023-05-14T05:24:19.422868500Z"
    }
   }
  },
  {
   "cell_type": "code",
   "execution_count": 36,
   "outputs": [],
   "source": [
    "# df_other와 df_SisFall을 행 방향으로 합침\n",
    "df_concat = pd.concat([df_SisFall, df_other])\n",
    "\n",
    "# nan 값 제거\n",
    "df_concat = df_concat.dropna()\n",
    "\n",
    "# # csv 파일로 저장\n",
    "# df_concat.to_csv(\"../data/df_concat_new.csv\", index=False)\n"
   ],
   "metadata": {
    "collapsed": false,
    "ExecuteTime": {
     "end_time": "2023-05-14T06:01:50.955528900Z",
     "start_time": "2023-05-14T06:01:47.795938300Z"
    }
   }
  },
  {
   "cell_type": "code",
   "execution_count": 37,
   "outputs": [],
   "source": [
    "from sklearn.model_selection import train_test_split\n",
    "\n",
    "# 독립변수, 종속변수 지정\n",
    "X = df_concat[['x', 'y', 'z']]\n",
    "y = df_concat['activity']"
   ],
   "metadata": {
    "collapsed": false,
    "ExecuteTime": {
     "end_time": "2023-05-14T06:01:52.673626900Z",
     "start_time": "2023-05-14T06:01:52.596112200Z"
    }
   }
  },
  {
   "cell_type": "code",
   "execution_count": 38,
   "outputs": [
    {
     "name": "stdout",
     "output_type": "stream",
     "text": [
      "Accuracy: 0.6394201580211265\n"
     ]
    }
   ],
   "source": [
    "import pandas as pd\n",
    "import numpy as np\n",
    "from sklearn.model_selection import train_test_split\n",
    "from sklearn.preprocessing import LabelEncoder, StandardScaler\n",
    "from sklearn.ensemble import RandomForestClassifier\n",
    "from sklearn.metrics import accuracy_score\n",
    "\n",
    "# 레이블 인코딩\n",
    "le = LabelEncoder()\n",
    "df_concat[\"activity\"] = le.fit_transform(df_concat[\"activity\"])\n",
    "\n",
    "# 표준화\n",
    "scaler = StandardScaler()\n",
    "df_concat[[\"x\", \"y\", \"z\"]] = scaler.fit_transform(df_concat[[\"x\", \"y\", \"z\"]])\n",
    "\n",
    "# 학습 데이터와 테스트 데이터로 분할\n",
    "X_train, X_test, y_train, y_test = train_test_split(X, y, test_size=0.3, random_state=42)\n",
    "\n",
    "# 랜덤 포레스트 모델 학습\n",
    "rf = RandomForestClassifier(random_state=42)\n",
    "rf.fit(X_train, y_train)\n",
    "\n",
    "# 테스트용 데이터로 예측\n",
    "y_pred = rf.predict(X_test)\n",
    "\n",
    "# 정확도 출력\n",
    "print(\"Accuracy:\", accuracy_score(y_test, y_pred))"
   ],
   "metadata": {
    "collapsed": false,
    "ExecuteTime": {
     "end_time": "2023-05-14T06:13:11.333010500Z",
     "start_time": "2023-05-14T06:01:54.215163800Z"
    }
   }
  },
  {
   "cell_type": "code",
   "execution_count": 39,
   "outputs": [
    {
     "name": "stdout",
     "output_type": "stream",
     "text": [
      "Accuracy: 0.4876\n"
     ]
    }
   ],
   "source": [
    "from sklearn.linear_model import LogisticRegression\n",
    "\n",
    "# 로지스틱 회귀 모델 정의 및 학습\n",
    "logreg = LogisticRegression(random_state=42)\n",
    "logreg.fit(X_train, y_train)\n",
    "\n",
    "# 테스트 데이터로 예측 수행\n",
    "y_pred = logreg.predict(X_test)\n",
    "\n",
    "# 정확도 출력\n",
    "accuracy = accuracy_score(y_test, y_pred)\n",
    "print(f\"Accuracy: {accuracy:.4f}\")"
   ],
   "metadata": {
    "collapsed": false,
    "ExecuteTime": {
     "end_time": "2023-05-14T06:16:46.795140100Z",
     "start_time": "2023-05-14T06:16:04.456504200Z"
    }
   }
  },
  {
   "cell_type": "markdown",
   "source": [
    "thisistrash"
   ],
   "metadata": {
    "collapsed": false
   }
  },
  {
   "cell_type": "code",
   "execution_count": null,
   "outputs": [],
   "source": [],
   "metadata": {
    "collapsed": false
   }
  }
 ],
 "metadata": {
  "kernelspec": {
   "display_name": "Python 3",
   "language": "python",
   "name": "python3"
  },
  "language_info": {
   "codemirror_mode": {
    "name": "ipython",
    "version": 2
   },
   "file_extension": ".py",
   "mimetype": "text/x-python",
   "name": "python",
   "nbconvert_exporter": "python",
   "pygments_lexer": "ipython2",
   "version": "2.7.6"
  }
 },
 "nbformat": 4,
 "nbformat_minor": 0
}
